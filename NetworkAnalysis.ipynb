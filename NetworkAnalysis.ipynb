{
 "cells": [
  {
   "cell_type": "markdown",
   "id": "9d207ce6",
   "metadata": {},
   "source": [
    "# Import Data"
   ]
  },
  {
   "cell_type": "code",
   "execution_count": 4,
   "id": "0b953fd3",
   "metadata": {},
   "outputs": [
    {
     "name": "stdout",
     "output_type": "stream",
     "text": [
      "                             OTU93_1  OTU93_1001  OTU93_1003  OTU93_101   \n",
      "Plant                                                                     \n",
      "Abelia_serrata                     0           0           0          0  \\\n",
      "Acer_palmatum                      0           0           0          0   \n",
      "Camellia_japonica                  0           0           0          0   \n",
      "Celtis_sinensis                    0           0           0          0   \n",
      "Cinnamomum_camphora                0           0           0          0   \n",
      "Clethra_barbinervis                0           0           0          0   \n",
      "Cleyera_japonica                   0           0           0          0   \n",
      "Cornus_sp.                         0           0           0          0   \n",
      "Diospyros_kaki                     0           0           0          0   \n",
      "Dryopteris_erythrosora             0           0           0          0   \n",
      "Fabaceae_sp.                       0           0           0          0   \n",
      "Gamblea_innovans                   0           0           0          0   \n",
      "Ilex_macropoda                     0           0           0          0   \n",
      "Ilex_pedunculosa                   0           0           1          0   \n",
      "Poales_sp.                         0           0           0          0   \n",
      "Lophatherum_gracile                1           0           0          0   \n",
      "Lyonia_ovalifolia                  0           0           0          0   \n",
      "Mallotus_japonicus                 0           0           0          0   \n",
      "Myrica_rubra                       0           0           0          0   \n",
      "Parthenocissus_tricuspidata        0           0           0          0   \n",
      "Photinia_glabra                    0           0           0          1   \n",
      "Pinus_densiflora                   0           1           0          0   \n",
      "Pleioblastus_chino                 0           0           0          0   \n",
      "Prunus_grayana                     0           0           0          0   \n",
      "Prunus_jamasakura                  0           0           0          0   \n",
      "Quercus_glauca                     1           1           0          0   \n",
      "Quercus_serrata                    2          21           0          0   \n",
      "Rhododendron_macrosepalum          0           0           0          0   \n",
      "Smilax_china                       0           0           0          0   \n",
      "Maleae_sp.                         0           0           0          0   \n",
      "Toxicodendron_sp.                  0           0           0          0   \n",
      "Vaccinium_bracteatum               0           0           0          0   \n",
      "Hypnales_sp.                       0           0           0          0   \n",
      "\n",
      "                             OTU93_1011  OTU93_1021  OTU93_1023  OTU93_1027   \n",
      "Plant                                                                         \n",
      "Abelia_serrata                        0           0           0           0  \\\n",
      "Acer_palmatum                         0           0           0           0   \n",
      "Camellia_japonica                     0           0           0           0   \n",
      "Celtis_sinensis                       0           0           0           0   \n",
      "Cinnamomum_camphora                   0           0           0           0   \n",
      "Clethra_barbinervis                   0           0           0           0   \n",
      "Cleyera_japonica                      0           0           1           0   \n",
      "Cornus_sp.                            0           0           0           0   \n",
      "Diospyros_kaki                        0           0           0           0   \n",
      "Dryopteris_erythrosora                0           0           0           0   \n",
      "Fabaceae_sp.                          0           0           0           0   \n",
      "Gamblea_innovans                      0           0           0           0   \n",
      "Ilex_macropoda                        0           0           0           0   \n",
      "Ilex_pedunculosa                      0           0           0           0   \n",
      "Poales_sp.                            0           0           0           0   \n",
      "Lophatherum_gracile                   0           0           0           0   \n",
      "Lyonia_ovalifolia                     0           0           2           0   \n",
      "Mallotus_japonicus                    0           0           0           0   \n",
      "Myrica_rubra                          0           0           0           0   \n",
      "Parthenocissus_tricuspidata           0           0           0           0   \n",
      "Photinia_glabra                       0           0           0           0   \n",
      "Pinus_densiflora                      0           0           0           0   \n",
      "Pleioblastus_chino                    0           0           0           0   \n",
      "Prunus_grayana                        0           1           0           0   \n",
      "Prunus_jamasakura                     0           0           0           0   \n",
      "Quercus_glauca                        0           0           0           0   \n",
      "Quercus_serrata                       1           0           1           1   \n",
      "Rhododendron_macrosepalum             0           0           1           0   \n",
      "Smilax_china                          0           0           0           0   \n",
      "Maleae_sp.                            0           0           0           0   \n",
      "Toxicodendron_sp.                     0           0           0           0   \n",
      "Vaccinium_bracteatum                  0           0           0           0   \n",
      "Hypnales_sp.                          0           0           1           0   \n",
      "\n",
      "                             OTU93_1033  OTU93_1035  ...  OTU93_949   \n",
      "Plant                                                ...              \n",
      "Abelia_serrata                        0           0  ...          0  \\\n",
      "Acer_palmatum                         0           0  ...          0   \n",
      "Camellia_japonica                     0           0  ...          0   \n",
      "Celtis_sinensis                       0           0  ...          0   \n",
      "Cinnamomum_camphora                   0           0  ...          0   \n",
      "Clethra_barbinervis                   0           0  ...          0   \n",
      "Cleyera_japonica                      0           0  ...          0   \n",
      "Cornus_sp.                            0           0  ...          0   \n",
      "Diospyros_kaki                        0           0  ...          0   \n",
      "Dryopteris_erythrosora                0           0  ...          0   \n",
      "Fabaceae_sp.                          0           0  ...          0   \n",
      "Gamblea_innovans                      0           0  ...          0   \n",
      "Ilex_macropoda                        0           0  ...          0   \n",
      "Ilex_pedunculosa                      0           0  ...          0   \n",
      "Poales_sp.                            0           0  ...          0   \n",
      "Lophatherum_gracile                   0           0  ...          0   \n",
      "Lyonia_ovalifolia                     0           0  ...          0   \n",
      "Mallotus_japonicus                    0           0  ...          1   \n",
      "Myrica_rubra                          0           0  ...          0   \n",
      "Parthenocissus_tricuspidata           0           0  ...          0   \n",
      "Photinia_glabra                       0           0  ...          0   \n",
      "Pinus_densiflora                      0           0  ...          0   \n",
      "Pleioblastus_chino                    1           0  ...          0   \n",
      "Prunus_grayana                        0           0  ...          0   \n",
      "Prunus_jamasakura                     0           0  ...          0   \n",
      "Quercus_glauca                        0           0  ...          0   \n",
      "Quercus_serrata                       0           1  ...          0   \n",
      "Rhododendron_macrosepalum             0           0  ...          0   \n",
      "Smilax_china                          0           0  ...          0   \n",
      "Maleae_sp.                            0           0  ...          0   \n",
      "Toxicodendron_sp.                     0           0  ...          0   \n",
      "Vaccinium_bracteatum                  0           0  ...          0   \n",
      "Hypnales_sp.                          0           0  ...          0   \n",
      "\n",
      "                             OTU93_955  OTU93_957  OTU93_959  OTU93_977   \n",
      "Plant                                                                     \n",
      "Abelia_serrata                       0          0          0          0  \\\n",
      "Acer_palmatum                        0          0          0          0   \n",
      "Camellia_japonica                    0          0          0          0   \n",
      "Celtis_sinensis                      0          0          0          0   \n",
      "Cinnamomum_camphora                  0          0          0          0   \n",
      "Clethra_barbinervis                  0          1          0          0   \n",
      "Cleyera_japonica                     0          1          0          0   \n",
      "Cornus_sp.                           0          0          0          0   \n",
      "Diospyros_kaki                       0          0          0          0   \n",
      "Dryopteris_erythrosora               0          0          0          0   \n",
      "Fabaceae_sp.                         0          0          0          0   \n",
      "Gamblea_innovans                     0          0          0          0   \n",
      "Ilex_macropoda                       0          3          0          0   \n",
      "Ilex_pedunculosa                     0         16          0          0   \n",
      "Poales_sp.                           0          0          0          0   \n",
      "Lophatherum_gracile                  0          0          0          0   \n",
      "Lyonia_ovalifolia                    0          3          0          0   \n",
      "Mallotus_japonicus                   0          0          0          0   \n",
      "Myrica_rubra                         0          0          0          0   \n",
      "Parthenocissus_tricuspidata          0          0          0          0   \n",
      "Photinia_glabra                      0          0          0          0   \n",
      "Pinus_densiflora                     1          2          0          0   \n",
      "Pleioblastus_chino                   0          0          0          0   \n",
      "Prunus_grayana                       0          0          0          0   \n",
      "Prunus_jamasakura                    0          0          0          0   \n",
      "Quercus_glauca                       0          1          0          0   \n",
      "Quercus_serrata                      0          1          1          1   \n",
      "Rhododendron_macrosepalum            0          0          0          0   \n",
      "Smilax_china                         0          0          0          0   \n",
      "Maleae_sp.                           0          0          0          0   \n",
      "Toxicodendron_sp.                    0          0          0          0   \n",
      "Vaccinium_bracteatum                 0          0          0          0   \n",
      "Hypnales_sp.                         0          0          0          0   \n",
      "\n",
      "                             OTU93_979  OTU93_981  OTU93_985  OTU93_99   \n",
      "Plant                                                                    \n",
      "Abelia_serrata                       0          0          0         1  \\\n",
      "Acer_palmatum                        0          0          0         0   \n",
      "Camellia_japonica                    0          0          0         0   \n",
      "Celtis_sinensis                      0          0          0         0   \n",
      "Cinnamomum_camphora                  0          1          0         0   \n",
      "Clethra_barbinervis                  0          0          0         0   \n",
      "Cleyera_japonica                     0          0          0         0   \n",
      "Cornus_sp.                           0          0          0         0   \n",
      "Diospyros_kaki                       0          0          0         0   \n",
      "Dryopteris_erythrosora               0          0          0         0   \n",
      "Fabaceae_sp.                         0          0          0         0   \n",
      "Gamblea_innovans                     0          0          0         0   \n",
      "Ilex_macropoda                       0          0          0         0   \n",
      "Ilex_pedunculosa                     1          0          0         0   \n",
      "Poales_sp.                           0          0          0         0   \n",
      "Lophatherum_gracile                  0          0          0         0   \n",
      "Lyonia_ovalifolia                    9          0          0         0   \n",
      "Mallotus_japonicus                   1          0          0         0   \n",
      "Myrica_rubra                         1          0          0         0   \n",
      "Parthenocissus_tricuspidata          0          0          0         0   \n",
      "Photinia_glabra                      0          0          0         0   \n",
      "Pinus_densiflora                     3          0          0         0   \n",
      "Pleioblastus_chino                   0          0          0         0   \n",
      "Prunus_grayana                       1          0          0         0   \n",
      "Prunus_jamasakura                    0          0          0         0   \n",
      "Quercus_glauca                       9          0          0         0   \n",
      "Quercus_serrata                     16          0          1         0   \n",
      "Rhododendron_macrosepalum            0          0          0         0   \n",
      "Smilax_china                         0          0          0         0   \n",
      "Maleae_sp.                           0          0          0         0   \n",
      "Toxicodendron_sp.                    0          0          0         0   \n",
      "Vaccinium_bracteatum                 0          0          0         0   \n",
      "Hypnales_sp.                         0          0          0         0   \n",
      "\n",
      "                             OTU93_997  \n",
      "Plant                                   \n",
      "Abelia_serrata                       0  \n",
      "Acer_palmatum                        0  \n",
      "Camellia_japonica                    0  \n",
      "Celtis_sinensis                      0  \n",
      "Cinnamomum_camphora                  0  \n",
      "Clethra_barbinervis                  0  \n",
      "Cleyera_japonica                     0  \n",
      "Cornus_sp.                           0  \n",
      "Diospyros_kaki                       0  \n",
      "Dryopteris_erythrosora               0  \n",
      "Fabaceae_sp.                         0  \n",
      "Gamblea_innovans                     0  \n",
      "Ilex_macropoda                       0  \n",
      "Ilex_pedunculosa                     0  \n",
      "Poales_sp.                           0  \n",
      "Lophatherum_gracile                  0  \n",
      "Lyonia_ovalifolia                    0  \n",
      "Mallotus_japonicus                   0  \n",
      "Myrica_rubra                         0  \n",
      "Parthenocissus_tricuspidata          0  \n",
      "Photinia_glabra                      0  \n",
      "Pinus_densiflora                     1  \n",
      "Pleioblastus_chino                   0  \n",
      "Prunus_grayana                       0  \n",
      "Prunus_jamasakura                    0  \n",
      "Quercus_glauca                       0  \n",
      "Quercus_serrata                      0  \n",
      "Rhododendron_macrosepalum            0  \n",
      "Smilax_china                         0  \n",
      "Maleae_sp.                           0  \n",
      "Toxicodendron_sp.                    0  \n",
      "Vaccinium_bracteatum                 0  \n",
      "Hypnales_sp.                         0  \n",
      "\n",
      "[33 rows x 341 columns]\n"
     ]
    },
    {
     "name": "stderr",
     "output_type": "stream",
     "text": [
      "C:\\Users\\Amrita\\miniconda3\\lib\\site-packages\\openpyxl\\worksheet\\_reader.py:329: UserWarning: Unknown extension is not supported and will be removed\n",
      "  warn(msg)\n"
     ]
    }
   ],
   "source": [
    "import pandas as pd\n",
    "\n",
    "df = pd.read_excel(\"japanNetwork.xlsx\", sheet_name=\"Matrix.93%\", index_col=0)\n",
    "\n",
    "print(df)"
   ]
  },
  {
   "cell_type": "markdown",
   "id": "4081781c",
   "metadata": {},
   "source": [
    "# Isolate Plant/Fungus"
   ]
  },
  {
   "cell_type": "code",
   "execution_count": 46,
   "id": "5c8d3fda",
   "metadata": {},
   "outputs": [
    {
     "name": "stdout",
     "output_type": "stream",
     "text": [
      "Warning: When  cdn_resources is 'local' jupyter notebook has issues displaying graphics on chrome/safari. Use cdn_resources='in_line' or cdn_resources='remote' if you have issues viewing graphics in a notebook.\n",
      "graph.html\n"
     ]
    },
    {
     "data": {
      "text/html": [
       "\n",
       "        <iframe\n",
       "            width=\"100%\"\n",
       "            height=\"600px\"\n",
       "            src=\"graph.html\"\n",
       "            frameborder=\"0\"\n",
       "            allowfullscreen\n",
       "            \n",
       "        ></iframe>\n",
       "        "
      ],
      "text/plain": [
       "<IPython.lib.display.IFrame at 0x2210d448700>"
      ]
     },
     "execution_count": 46,
     "metadata": {},
     "output_type": "execute_result"
    }
   ],
   "source": [
    "from pyvis.network import Network\n",
    "\n",
    "net = Network(notebook=True)  # create graph object\n",
    "\n",
    "# look at fungi connected to a certain plant\n",
    "plant = list(df.index)[12]\n",
    "net.add_node(\n",
    "    plant,\n",
    "    label=plant,\n",
    "    size=30\n",
    ")\n",
    "    \n",
    "for fungus in list(df.columns):\n",
    "    if df[fungus][plant] > 0:\n",
    "        net.add_node(fungus, color=\"red\", size=15)\n",
    "        net.add_edge(fungus, plant, width=int(df[fungus][plant]))\n",
    "\n",
    "net.repulsion()\n",
    "net.show('graph.html') "
   ]
  },
  {
   "cell_type": "code",
   "execution_count": 143,
   "id": "33a50221",
   "metadata": {},
   "outputs": [
    {
     "name": "stdout",
     "output_type": "stream",
     "text": [
      "Warning: When  cdn_resources is 'local' jupyter notebook has issues displaying graphics on chrome/safari. Use cdn_resources='in_line' or cdn_resources='remote' if you have issues viewing graphics in a notebook.\n",
      "graph.html\n"
     ]
    },
    {
     "data": {
      "text/html": [
       "\n",
       "        <iframe\n",
       "            width=\"100%\"\n",
       "            height=\"600px\"\n",
       "            src=\"graph.html\"\n",
       "            frameborder=\"0\"\n",
       "            allowfullscreen\n",
       "            \n",
       "        ></iframe>\n",
       "        "
      ],
      "text/plain": [
       "<IPython.lib.display.IFrame at 0x2210d448790>"
      ]
     },
     "execution_count": 143,
     "metadata": {},
     "output_type": "execute_result"
    }
   ],
   "source": [
    "from pyvis.network import Network\n",
    "\n",
    "net = Network(notebook=True)  # create graph object\n",
    "\n",
    "# look at plants connected to a certain fungus\n",
    "fungus = \"OTU93_1067\"\n",
    "net.add_node(\n",
    "    fungus,\n",
    "    label=fungus,\n",
    "    color='red',\n",
    "    size=15\n",
    ")\n",
    "    \n",
    "for plant in list(df.index):\n",
    "    if df[fungus][plant] > 0:\n",
    "        net.add_node(plant, size=30)\n",
    "        net.add_edge(fungus, plant, width=int(df[fungus][plant]))\n",
    "\n",
    "net.show('graph.html') "
   ]
  },
  {
   "cell_type": "code",
   "execution_count": 59,
   "id": "3432033b",
   "metadata": {},
   "outputs": [
    {
     "name": "stdout",
     "output_type": "stream",
     "text": [
      "Requirement already satisfied: networkx in c:\\users\\amrita\\miniconda3\\lib\\site-packages (3.1)\n"
     ]
    }
   ],
   "source": [
    "!pip install networkx"
   ]
  },
  {
   "cell_type": "markdown",
   "id": "64ace6bf",
   "metadata": {},
   "source": [
    "# Put Graph Into NetworkX"
   ]
  },
  {
   "cell_type": "code",
   "execution_count": 64,
   "id": "50a573d6",
   "metadata": {},
   "outputs": [
    {
     "name": "stdout",
     "output_type": "stream",
     "text": [
      "[('Abelia_serrata', 'OTU93_1347', {'weight': 1}), ('Abelia_serrata', 'OTU93_241', {'weight': 1}), ('Abelia_serrata', 'OTU93_485', {'weight': 1}), ('Abelia_serrata', 'OTU93_99', {'weight': 1}), ('Acer_palmatum', 'OTU93_1113', {'weight': 1}), ('Acer_palmatum', 'OTU93_1359', {'weight': 1}), ('Acer_palmatum', 'OTU93_69', {'weight': 1}), ('Camellia_japonica', 'OTU93_1077', {'weight': 1}), ('Camellia_japonica', 'OTU93_443', {'weight': 1}), ('Camellia_japonica', 'OTU93_69', {'weight': 1}), ('Celtis_sinensis', 'OTU93_1307', {'weight': 1}), ('Celtis_sinensis', 'OTU93_301', {'weight': 1}), ('Celtis_sinensis', 'OTU93_575', {'weight': 1}), ('Celtis_sinensis', 'OTU93_581', {'weight': 1}), ('Celtis_sinensis', 'OTU93_69', {'weight': 1}), ('Celtis_sinensis', 'OTU93_837', {'weight': 1}), ('Cinnamomum_camphora', 'OTU93_1067', {'weight': 2}), ('Cinnamomum_camphora', 'OTU93_1089', {'weight': 1}), ('Cinnamomum_camphora', 'OTU93_1113', {'weight': 1}), ('Cinnamomum_camphora', 'OTU93_117', {'weight': 2}), ('Cinnamomum_camphora', 'OTU93_123', {'weight': 2}), ('Cinnamomum_camphora', 'OTU93_1245', {'weight': 1}), ('Cinnamomum_camphora', 'OTU93_1307', {'weight': 1}), ('Cinnamomum_camphora', 'OTU93_1325', {'weight': 1}), ('Cinnamomum_camphora', 'OTU93_1333', {'weight': 1}), ('Cinnamomum_camphora', 'OTU93_1339', {'weight': 1}), ('Cinnamomum_camphora', 'OTU93_1345', {'weight': 3}), ('Cinnamomum_camphora', 'OTU93_1351', {'weight': 1}), ('Cinnamomum_camphora', 'OTU93_1357', {'weight': 3}), ('Cinnamomum_camphora', 'OTU93_1361', {'weight': 1}), ('Cinnamomum_camphora', 'OTU93_181', {'weight': 3}), ('Cinnamomum_camphora', 'OTU93_19', {'weight': 1}), ('Cinnamomum_camphora', 'OTU93_295', {'weight': 4}), ('Cinnamomum_camphora', 'OTU93_301', {'weight': 2}), ('Cinnamomum_camphora', 'OTU93_417', {'weight': 2}), ('Cinnamomum_camphora', 'OTU93_465', {'weight': 1}), ('Cinnamomum_camphora', 'OTU93_467', {'weight': 2}), ('Cinnamomum_camphora', 'OTU93_559', {'weight': 2}), ('Cinnamomum_camphora', 'OTU93_639', {'weight': 1}), ('Cinnamomum_camphora', 'OTU93_69', {'weight': 9}), ('Cinnamomum_camphora', 'OTU93_741', {'weight': 1}), ('Cinnamomum_camphora', 'OTU93_849', {'weight': 1}), ('Cinnamomum_camphora', 'OTU93_887', {'weight': 1}), ('Cinnamomum_camphora', 'OTU93_943', {'weight': 1}), ('Cinnamomum_camphora', 'OTU93_981', {'weight': 1}), ('Clethra_barbinervis', 'OTU93_577', {'weight': 1}), ('Clethra_barbinervis', 'OTU93_69', {'weight': 1}), ('Clethra_barbinervis', 'OTU93_957', {'weight': 1}), ('Cleyera_japonica', 'OTU93_1023', {'weight': 1}), ('Cleyera_japonica', 'OTU93_117', {'weight': 1}), ('Cleyera_japonica', 'OTU93_577', {'weight': 1}), ('Cleyera_japonica', 'OTU93_957', {'weight': 1}), ('Cornus_sp.', 'OTU93_1113', {'weight': 1}), ('Cornus_sp.', 'OTU93_441', {'weight': 1}), ('Cornus_sp.', 'OTU93_69', {'weight': 1}), ('Diospyros_kaki', 'OTU93_1289', {'weight': 1}), ('Diospyros_kaki', 'OTU93_1345', {'weight': 1}), ('Diospyros_kaki', 'OTU93_571', {'weight': 1}), ('Diospyros_kaki', 'OTU93_67', {'weight': 1}), ('Dryopteris_erythrosora', 'OTU93_1135', {'weight': 1}), ('Dryopteris_erythrosora', 'OTU93_1157', {'weight': 1}), ('Dryopteris_erythrosora', 'OTU93_117', {'weight': 3}), ('Dryopteris_erythrosora', 'OTU93_1171', {'weight': 1}), ('Dryopteris_erythrosora', 'OTU93_1179', {'weight': 1}), ('Dryopteris_erythrosora', 'OTU93_1287', {'weight': 1}), ('Dryopteris_erythrosora', 'OTU93_1325', {'weight': 1}), ('Dryopteris_erythrosora', 'OTU93_1351', {'weight': 1}), ('Dryopteris_erythrosora', 'OTU93_203', {'weight': 1}), ('Dryopteris_erythrosora', 'OTU93_25', {'weight': 2}), ('Dryopteris_erythrosora', 'OTU93_295', {'weight': 1}), ('Dryopteris_erythrosora', 'OTU93_301', {'weight': 2}), ('Dryopteris_erythrosora', 'OTU93_417', {'weight': 1}), ('Dryopteris_erythrosora', 'OTU93_425', {'weight': 1}), ('Dryopteris_erythrosora', 'OTU93_571', {'weight': 1}), ('Dryopteris_erythrosora', 'OTU93_577', {'weight': 1}), ('Dryopteris_erythrosora', 'OTU93_69', {'weight': 5}), ('Dryopteris_erythrosora', 'OTU93_921', {'weight': 1}), ('Fabaceae_sp.', 'OTU93_1351', {'weight': 1}), ('Fabaceae_sp.', 'OTU93_417', {'weight': 1}), ('Fabaceae_sp.', 'OTU93_521', {'weight': 1}), ('Fabaceae_sp.', 'OTU93_577', {'weight': 1}), ('Fabaceae_sp.', 'OTU93_69', {'weight': 1}), ('Fabaceae_sp.', 'OTU93_91', {'weight': 1}), ('Gamblea_innovans', 'OTU93_1341', {'weight': 1}), ('Gamblea_innovans', 'OTU93_1345', {'weight': 2}), ('Gamblea_innovans', 'OTU93_25', {'weight': 1}), ('Gamblea_innovans', 'OTU93_417', {'weight': 1}), ('Gamblea_innovans', 'OTU93_571', {'weight': 1}), ('Gamblea_innovans', 'OTU93_69', {'weight': 1}), ('Gamblea_innovans', 'OTU93_757', {'weight': 1}), ('Ilex_macropoda', 'OTU93_1055', {'weight': 1}), ('Ilex_macropoda', 'OTU93_1067', {'weight': 4}), ('Ilex_macropoda', 'OTU93_1333', {'weight': 1}), ('Ilex_macropoda', 'OTU93_1345', {'weight': 1}), ('Ilex_macropoda', 'OTU93_135', {'weight': 1}), ('Ilex_macropoda', 'OTU93_165', {'weight': 1}), ('Ilex_macropoda', 'OTU93_23', {'weight': 1}), ('Ilex_macropoda', 'OTU93_301', {'weight': 2}), ('Ilex_macropoda', 'OTU93_437', {'weight': 1}), ('Ilex_macropoda', 'OTU93_457', {'weight': 1}), ('Ilex_macropoda', 'OTU93_571', {'weight': 1}), ('Ilex_macropoda', 'OTU93_69', {'weight': 11}), ('Ilex_macropoda', 'OTU93_91', {'weight': 1}), ('Ilex_macropoda', 'OTU93_957', {'weight': 3}), ('Ilex_pedunculosa', 'OTU93_1003', {'weight': 1}), ('Ilex_pedunculosa', 'OTU93_1045', {'weight': 1}), ('Ilex_pedunculosa', 'OTU93_1067', {'weight': 3}), ('Ilex_pedunculosa', 'OTU93_1089', {'weight': 7}), ('Ilex_pedunculosa', 'OTU93_109', {'weight': 1}), ('Ilex_pedunculosa', 'OTU93_1111', {'weight': 1}), ('Ilex_pedunculosa', 'OTU93_1113', {'weight': 4}), ('Ilex_pedunculosa', 'OTU93_117', {'weight': 7}), ('Ilex_pedunculosa', 'OTU93_1191', {'weight': 1}), ('Ilex_pedunculosa', 'OTU93_1219', {'weight': 1}), ('Ilex_pedunculosa', 'OTU93_1233', {'weight': 1}), ('Ilex_pedunculosa', 'OTU93_1245', {'weight': 1}), ('Ilex_pedunculosa', 'OTU93_1307', {'weight': 1}), ('Ilex_pedunculosa', 'OTU93_1325', {'weight': 2}), ('Ilex_pedunculosa', 'OTU93_1327', {'weight': 1}), ('Ilex_pedunculosa', 'OTU93_1331', {'weight': 2}), ('Ilex_pedunculosa', 'OTU93_1339', {'weight': 1}), ('Ilex_pedunculosa', 'OTU93_1341', {'weight': 2}), ('Ilex_pedunculosa', 'OTU93_1343', {'weight': 1}), ('Ilex_pedunculosa', 'OTU93_1345', {'weight': 3}), ('Ilex_pedunculosa', 'OTU93_1349', {'weight': 1}), ('Ilex_pedunculosa', 'OTU93_1351', {'weight': 3}), ('Ilex_pedunculosa', 'OTU93_1357', {'weight': 1}), ('Ilex_pedunculosa', 'OTU93_1359', {'weight': 1}), ('Ilex_pedunculosa', 'OTU93_1361', {'weight': 1}), ('Ilex_pedunculosa', 'OTU93_1363', {'weight': 1}), ('Ilex_pedunculosa', 'OTU93_1365', {'weight': 1}), ('Ilex_pedunculosa', 'OTU93_143', {'weight': 1}), ('Ilex_pedunculosa', 'OTU93_15', {'weight': 1}), ('Ilex_pedunculosa', 'OTU93_159', {'weight': 1}), ('Ilex_pedunculosa', 'OTU93_165', {'weight': 1}), ('Ilex_pedunculosa', 'OTU93_171', {'weight': 2}), ('Ilex_pedunculosa', 'OTU93_205', {'weight': 1}), ('Ilex_pedunculosa', 'OTU93_245', {'weight': 1}), ('Ilex_pedunculosa', 'OTU93_25', {'weight': 3}), ('Ilex_pedunculosa', 'OTU93_261', {'weight': 1}), ('Ilex_pedunculosa', 'OTU93_269', {'weight': 1}), ('Ilex_pedunculosa', 'OTU93_295', {'weight': 9}), ('Ilex_pedunculosa', 'OTU93_3', {'weight': 1}), ('Ilex_pedunculosa', 'OTU93_301', {'weight': 1}), ('Ilex_pedunculosa', 'OTU93_41', {'weight': 3}), ('Ilex_pedunculosa', 'OTU93_417', {'weight': 5}), ('Ilex_pedunculosa', 'OTU93_427', {'weight': 1}), ('Ilex_pedunculosa', 'OTU93_437', {'weight': 2}), ('Ilex_pedunculosa', 'OTU93_439', {'weight': 1}), ('Ilex_pedunculosa', 'OTU93_459', {'weight': 1}), ('Ilex_pedunculosa', 'OTU93_463', {'weight': 1}), ('Ilex_pedunculosa', 'OTU93_465', {'weight': 1}), ('Ilex_pedunculosa', 'OTU93_467', {'weight': 3}), ('Ilex_pedunculosa', 'OTU93_481', {'weight': 1}), ('Ilex_pedunculosa', 'OTU93_483', {'weight': 1}), ('Ilex_pedunculosa', 'OTU93_489', {'weight': 1}), ('Ilex_pedunculosa', 'OTU93_503', {'weight': 3}), ('Ilex_pedunculosa', 'OTU93_505', {'weight': 1}), ('Ilex_pedunculosa', 'OTU93_515', {'weight': 2}), ('Ilex_pedunculosa', 'OTU93_523', {'weight': 2}), ('Ilex_pedunculosa', 'OTU93_537', {'weight': 1}), ('Ilex_pedunculosa', 'OTU93_571', {'weight': 4}), ('Ilex_pedunculosa', 'OTU93_577', {'weight': 6}), ('Ilex_pedunculosa', 'OTU93_581', {'weight': 2}), ('Ilex_pedunculosa', 'OTU93_587', {'weight': 3}), ('Ilex_pedunculosa', 'OTU93_589', {'weight': 1}), ('Ilex_pedunculosa', 'OTU93_597', {'weight': 1}), ('Ilex_pedunculosa', 'OTU93_631', {'weight': 1}), ('Ilex_pedunculosa', 'OTU93_649', {'weight': 2}), ('Ilex_pedunculosa', 'OTU93_69', {'weight': 50}), ('Ilex_pedunculosa', 'OTU93_753', {'weight': 1}), ('Ilex_pedunculosa', 'OTU93_765', {'weight': 2}), ('Ilex_pedunculosa', 'OTU93_779', {'weight': 5}), ('Ilex_pedunculosa', 'OTU93_839', {'weight': 1}), ('Ilex_pedunculosa', 'OTU93_887', {'weight': 1}), ('Ilex_pedunculosa', 'OTU93_91', {'weight': 1}), ('Ilex_pedunculosa', 'OTU93_93', {'weight': 1}), ('Ilex_pedunculosa', 'OTU93_957', {'weight': 16}), ('Ilex_pedunculosa', 'OTU93_979', {'weight': 1}), ('Poales_sp.', 'OTU93_577', {'weight': 1}), ('Poales_sp.', 'OTU93_581', {'weight': 1}), ('Poales_sp.', 'OTU93_913', {'weight': 1}), ('Lophatherum_gracile', 'OTU93_1', {'weight': 1}), ('Lophatherum_gracile', 'OTU93_1057', {'weight': 1}), ('Lophatherum_gracile', 'OTU93_1113', {'weight': 1}), ('Lophatherum_gracile', 'OTU93_1339', {'weight': 1}), ('Lophatherum_gracile', 'OTU93_1341', {'weight': 1}), ('Lophatherum_gracile', 'OTU93_1351', {'weight': 2}), ('Lophatherum_gracile', 'OTU93_25', {'weight': 1}), ('Lophatherum_gracile', 'OTU93_301', {'weight': 1}), ('Lophatherum_gracile', 'OTU93_339', {'weight': 1}), ('Lophatherum_gracile', 'OTU93_47', {'weight': 1}), ('Lophatherum_gracile', 'OTU93_503', {'weight': 1}), ('Lophatherum_gracile', 'OTU93_567', {'weight': 2}), ('Lophatherum_gracile', 'OTU93_571', {'weight': 2}), ('Lophatherum_gracile', 'OTU93_609', {'weight': 1}), ('Lophatherum_gracile', 'OTU93_653', {'weight': 1}), ('Lophatherum_gracile', 'OTU93_67', {'weight': 1}), ('Lophatherum_gracile', 'OTU93_69', {'weight': 1}), ('Lophatherum_gracile', 'OTU93_93', {'weight': 1}), ('Lyonia_ovalifolia', 'OTU93_1023', {'weight': 2}), ('Lyonia_ovalifolia', 'OTU93_1067', {'weight': 21}), ('Lyonia_ovalifolia', 'OTU93_1079', {'weight': 1}), ('Lyonia_ovalifolia', 'OTU93_1085', {'weight': 1}), ('Lyonia_ovalifolia', 'OTU93_1089', {'weight': 3}), ('Lyonia_ovalifolia', 'OTU93_1093', {'weight': 1}), ('Lyonia_ovalifolia', 'OTU93_1105', {'weight': 1}), ('Lyonia_ovalifolia', 'OTU93_1113', {'weight': 5}), ('Lyonia_ovalifolia', 'OTU93_1135', {'weight': 3}), ('Lyonia_ovalifolia', 'OTU93_117', {'weight': 3}), ('Lyonia_ovalifolia', 'OTU93_1221', {'weight': 1}), ('Lyonia_ovalifolia', 'OTU93_1301', {'weight': 1}), ('Lyonia_ovalifolia', 'OTU93_1321', {'weight': 1}), ('Lyonia_ovalifolia', 'OTU93_1327', {'weight': 6}), ('Lyonia_ovalifolia', 'OTU93_1329', {'weight': 1}), ('Lyonia_ovalifolia', 'OTU93_1331', {'weight': 4}), ('Lyonia_ovalifolia', 'OTU93_1333', {'weight': 1}), ('Lyonia_ovalifolia', 'OTU93_1335', {'weight': 2}), ('Lyonia_ovalifolia', 'OTU93_1337', {'weight': 2}), ('Lyonia_ovalifolia', 'OTU93_1345', {'weight': 7}), ('Lyonia_ovalifolia', 'OTU93_1347', {'weight': 2}), ('Lyonia_ovalifolia', 'OTU93_135', {'weight': 1}), ('Lyonia_ovalifolia', 'OTU93_1351', {'weight': 1}), ('Lyonia_ovalifolia', 'OTU93_1355', {'weight': 4}), ('Lyonia_ovalifolia', 'OTU93_143', {'weight': 1}), ('Lyonia_ovalifolia', 'OTU93_171', {'weight': 3}), ('Lyonia_ovalifolia', 'OTU93_201', {'weight': 1}), ('Lyonia_ovalifolia', 'OTU93_21', {'weight': 2}), ('Lyonia_ovalifolia', 'OTU93_245', {'weight': 2}), ('Lyonia_ovalifolia', 'OTU93_25', {'weight': 7}), ('Lyonia_ovalifolia', 'OTU93_271', {'weight': 1}), ('Lyonia_ovalifolia', 'OTU93_273', {'weight': 2}), ('Lyonia_ovalifolia', 'OTU93_277', {'weight': 1}), ('Lyonia_ovalifolia', 'OTU93_299', {'weight': 1}), ('Lyonia_ovalifolia', 'OTU93_301', {'weight': 5}), ('Lyonia_ovalifolia', 'OTU93_305', {'weight': 3}), ('Lyonia_ovalifolia', 'OTU93_335', {'weight': 1}), ('Lyonia_ovalifolia', 'OTU93_413', {'weight': 1}), ('Lyonia_ovalifolia', 'OTU93_417', {'weight': 3}), ('Lyonia_ovalifolia', 'OTU93_421', {'weight': 1}), ('Lyonia_ovalifolia', 'OTU93_429', {'weight': 1}), ('Lyonia_ovalifolia', 'OTU93_435', {'weight': 4}), ('Lyonia_ovalifolia', 'OTU93_437', {'weight': 3}), ('Lyonia_ovalifolia', 'OTU93_439', {'weight': 1}), ('Lyonia_ovalifolia', 'OTU93_449', {'weight': 1}), ('Lyonia_ovalifolia', 'OTU93_459', {'weight': 1}), ('Lyonia_ovalifolia', 'OTU93_463', {'weight': 2}), ('Lyonia_ovalifolia', 'OTU93_465', {'weight': 1}), ('Lyonia_ovalifolia', 'OTU93_479', {'weight': 1}), ('Lyonia_ovalifolia', 'OTU93_503', {'weight': 6}), ('Lyonia_ovalifolia', 'OTU93_505', {'weight': 1}), ('Lyonia_ovalifolia', 'OTU93_513', {'weight': 1}), ('Lyonia_ovalifolia', 'OTU93_519', {'weight': 1}), ('Lyonia_ovalifolia', 'OTU93_521', {'weight': 1}), ('Lyonia_ovalifolia', 'OTU93_537', {'weight': 1}), ('Lyonia_ovalifolia', 'OTU93_541', {'weight': 1}), ('Lyonia_ovalifolia', 'OTU93_545', {'weight': 1}), ('Lyonia_ovalifolia', 'OTU93_549', {'weight': 1}), ('Lyonia_ovalifolia', 'OTU93_567', {'weight': 3}), ('Lyonia_ovalifolia', 'OTU93_571', {'weight': 17}), ('Lyonia_ovalifolia', 'OTU93_573', {'weight': 1}), ('Lyonia_ovalifolia', 'OTU93_575', {'weight': 5}), ('Lyonia_ovalifolia', 'OTU93_577', {'weight': 20}), ('Lyonia_ovalifolia', 'OTU93_579', {'weight': 1}), ('Lyonia_ovalifolia', 'OTU93_581', {'weight': 5}), ('Lyonia_ovalifolia', 'OTU93_589', {'weight': 1}), ('Lyonia_ovalifolia', 'OTU93_67', {'weight': 1}), ('Lyonia_ovalifolia', 'OTU93_69', {'weight': 29}), ('Lyonia_ovalifolia', 'OTU93_703', {'weight': 1}), ('Lyonia_ovalifolia', 'OTU93_825', {'weight': 1}), ('Lyonia_ovalifolia', 'OTU93_831', {'weight': 1}), ('Lyonia_ovalifolia', 'OTU93_867', {'weight': 1}), ('Lyonia_ovalifolia', 'OTU93_891', {'weight': 1}), ('Lyonia_ovalifolia', 'OTU93_91', {'weight': 2}), ('Lyonia_ovalifolia', 'OTU93_913', {'weight': 5}), ('Lyonia_ovalifolia', 'OTU93_957', {'weight': 3}), ('Lyonia_ovalifolia', 'OTU93_979', {'weight': 9}), ('Mallotus_japonicus', 'OTU93_1045', {'weight': 1}), ('Mallotus_japonicus', 'OTU93_1067', {'weight': 2}), ('Mallotus_japonicus', 'OTU93_1075', {'weight': 1}), ('Mallotus_japonicus', 'OTU93_1113', {'weight': 1}), ('Mallotus_japonicus', 'OTU93_1325', {'weight': 2}), ('Mallotus_japonicus', 'OTU93_1345', {'weight': 2}), ('Mallotus_japonicus', 'OTU93_145', {'weight': 1}), ('Mallotus_japonicus', 'OTU93_295', {'weight': 2}), ('Mallotus_japonicus', 'OTU93_437', {'weight': 2}), ('Mallotus_japonicus', 'OTU93_515', {'weight': 1}), ('Mallotus_japonicus', 'OTU93_571', {'weight': 1}), ('Mallotus_japonicus', 'OTU93_573', {'weight': 1}), ('Mallotus_japonicus', 'OTU93_69', {'weight': 3}), ('Mallotus_japonicus', 'OTU93_91', {'weight': 1}), ('Mallotus_japonicus', 'OTU93_949', {'weight': 1}), ('Mallotus_japonicus', 'OTU93_979', {'weight': 1}), ('Myrica_rubra', 'OTU93_1285', {'weight': 1}), ('Myrica_rubra', 'OTU93_443', {'weight': 1}), ('Myrica_rubra', 'OTU93_47', {'weight': 1}), ('Myrica_rubra', 'OTU93_69', {'weight': 1}), ('Myrica_rubra', 'OTU93_979', {'weight': 1}), ('Parthenocissus_tricuspidata', 'OTU93_1113', {'weight': 1}), ('Parthenocissus_tricuspidata', 'OTU93_1283', {'weight': 1}), ('Parthenocissus_tricuspidata', 'OTU93_69', {'weight': 1}), ('Photinia_glabra', 'OTU93_101', {'weight': 1}), ('Photinia_glabra', 'OTU93_1089', {'weight': 1}), ('Photinia_glabra', 'OTU93_1157', {'weight': 1}), ('Photinia_glabra', 'OTU93_1329', {'weight': 1}), ('Photinia_glabra', 'OTU93_1345', {'weight': 1}), ('Photinia_glabra', 'OTU93_1351', {'weight': 1}), ('Photinia_glabra', 'OTU93_25', {'weight': 3}), ('Photinia_glabra', 'OTU93_41', {'weight': 1}), ('Photinia_glabra', 'OTU93_411', {'weight': 1}), ('Photinia_glabra', 'OTU93_417', {'weight': 2}), ('Photinia_glabra', 'OTU93_437', {'weight': 1}), ('Photinia_glabra', 'OTU93_47', {'weight': 1}), ('Photinia_glabra', 'OTU93_513', {'weight': 1}), ('Photinia_glabra', 'OTU93_567', {'weight': 1}), ('Photinia_glabra', 'OTU93_573', {'weight': 1}), ('Photinia_glabra', 'OTU93_69', {'weight': 8}), ('Photinia_glabra', 'OTU93_779', {'weight': 1}), ('Photinia_glabra', 'OTU93_919', {'weight': 1}), ('Pinus_densiflora', 'OTU93_1001', {'weight': 1}), ('Pinus_densiflora', 'OTU93_1045', {'weight': 2}), ('Pinus_densiflora', 'OTU93_1067', {'weight': 2}), ('Pinus_densiflora', 'OTU93_1083', {'weight': 1}), ('Pinus_densiflora', 'OTU93_1089', {'weight': 6}), ('Pinus_densiflora', 'OTU93_1113', {'weight': 3}), ('Pinus_densiflora', 'OTU93_1131', {'weight': 1}), ('Pinus_densiflora', 'OTU93_117', {'weight': 2}), ('Pinus_densiflora', 'OTU93_1267', {'weight': 2}), ('Pinus_densiflora', 'OTU93_1285', {'weight': 1}), ('Pinus_densiflora', 'OTU93_1289', {'weight': 1}), ('Pinus_densiflora', 'OTU93_1329', {'weight': 6}), ('Pinus_densiflora', 'OTU93_1331', {'weight': 1}), ('Pinus_densiflora', 'OTU93_1345', {'weight': 1}), ('Pinus_densiflora', 'OTU93_1347', {'weight': 4}), ('Pinus_densiflora', 'OTU93_1351', {'weight': 7}), ('Pinus_densiflora', 'OTU93_1355', {'weight': 5}), ('Pinus_densiflora', 'OTU93_1357', {'weight': 1}), ('Pinus_densiflora', 'OTU93_1363', {'weight': 2}), ('Pinus_densiflora', 'OTU93_1365', {'weight': 1}), ('Pinus_densiflora', 'OTU93_147', {'weight': 4}), ('Pinus_densiflora', 'OTU93_151', {'weight': 1}), ('Pinus_densiflora', 'OTU93_159', {'weight': 1}), ('Pinus_densiflora', 'OTU93_171', {'weight': 2}), ('Pinus_densiflora', 'OTU93_239', {'weight': 1}), ('Pinus_densiflora', 'OTU93_245', {'weight': 1}), ('Pinus_densiflora', 'OTU93_25', {'weight': 6}), ('Pinus_densiflora', 'OTU93_253', {'weight': 1}), ('Pinus_densiflora', 'OTU93_267', {'weight': 2}), ('Pinus_densiflora', 'OTU93_295', {'weight': 1}), ('Pinus_densiflora', 'OTU93_3', {'weight': 2}), ('Pinus_densiflora', 'OTU93_301', {'weight': 4}), ('Pinus_densiflora', 'OTU93_305', {'weight': 1}), ('Pinus_densiflora', 'OTU93_377', {'weight': 1}), ('Pinus_densiflora', 'OTU93_417', {'weight': 3}), ('Pinus_densiflora', 'OTU93_421', {'weight': 1}), ('Pinus_densiflora', 'OTU93_427', {'weight': 1}), ('Pinus_densiflora', 'OTU93_429', {'weight': 2}), ('Pinus_densiflora', 'OTU93_437', {'weight': 1}), ('Pinus_densiflora', 'OTU93_439', {'weight': 1}), ('Pinus_densiflora', 'OTU93_443', {'weight': 1}), ('Pinus_densiflora', 'OTU93_449', {'weight': 1}), ('Pinus_densiflora', 'OTU93_459', {'weight': 1}), ('Pinus_densiflora', 'OTU93_495', {'weight': 6}), ('Pinus_densiflora', 'OTU93_497', {'weight': 1}), ('Pinus_densiflora', 'OTU93_499', {'weight': 1}), ('Pinus_densiflora', 'OTU93_5', {'weight': 1}), ('Pinus_densiflora', 'OTU93_503', {'weight': 10}), ('Pinus_densiflora', 'OTU93_505', {'weight': 1}), ('Pinus_densiflora', 'OTU93_513', {'weight': 1}), ('Pinus_densiflora', 'OTU93_521', {'weight': 1}), ('Pinus_densiflora', 'OTU93_549', {'weight': 1}), ('Pinus_densiflora', 'OTU93_567', {'weight': 3}), ('Pinus_densiflora', 'OTU93_571', {'weight': 17}), ('Pinus_densiflora', 'OTU93_573', {'weight': 18}), ('Pinus_densiflora', 'OTU93_577', {'weight': 6}), ('Pinus_densiflora', 'OTU93_581', {'weight': 5}), ('Pinus_densiflora', 'OTU93_663', {'weight': 1}), ('Pinus_densiflora', 'OTU93_685', {'weight': 1}), ('Pinus_densiflora', 'OTU93_69', {'weight': 36}), ('Pinus_densiflora', 'OTU93_713', {'weight': 1}), ('Pinus_densiflora', 'OTU93_731', {'weight': 1}), ('Pinus_densiflora', 'OTU93_773', {'weight': 1}), ('Pinus_densiflora', 'OTU93_81', {'weight': 1}), ('Pinus_densiflora', 'OTU93_817', {'weight': 1}), ('Pinus_densiflora', 'OTU93_85', {'weight': 1}), ('Pinus_densiflora', 'OTU93_875', {'weight': 1}), ('Pinus_densiflora', 'OTU93_879', {'weight': 1}), ('Pinus_densiflora', 'OTU93_955', {'weight': 1}), ('Pinus_densiflora', 'OTU93_957', {'weight': 2}), ('Pinus_densiflora', 'OTU93_979', {'weight': 3}), ('Pinus_densiflora', 'OTU93_997', {'weight': 1}), ('Pleioblastus_chino', 'OTU93_1033', {'weight': 1}), ('Pleioblastus_chino', 'OTU93_1057', {'weight': 1}), ('Pleioblastus_chino', 'OTU93_1113', {'weight': 3}), ('Pleioblastus_chino', 'OTU93_1121', {'weight': 1}), ('Pleioblastus_chino', 'OTU93_1165', {'weight': 1}), ('Pleioblastus_chino', 'OTU93_117', {'weight': 2}), ('Pleioblastus_chino', 'OTU93_1235', {'weight': 1}), ('Pleioblastus_chino', 'OTU93_1289', {'weight': 1}), ('Pleioblastus_chino', 'OTU93_1307', {'weight': 1}), ('Pleioblastus_chino', 'OTU93_1323', {'weight': 1}), ('Pleioblastus_chino', 'OTU93_1325', {'weight': 2}), ('Pleioblastus_chino', 'OTU93_133', {'weight': 1}), ('Pleioblastus_chino', 'OTU93_1343', {'weight': 1}), ('Pleioblastus_chino', 'OTU93_1347', {'weight': 1}), ('Pleioblastus_chino', 'OTU93_159', {'weight': 1}), ('Pleioblastus_chino', 'OTU93_17', {'weight': 1}), ('Pleioblastus_chino', 'OTU93_181', {'weight': 1}), ('Pleioblastus_chino', 'OTU93_301', {'weight': 1}), ('Pleioblastus_chino', 'OTU93_425', {'weight': 1}), ('Pleioblastus_chino', 'OTU93_45', {'weight': 1}), ('Pleioblastus_chino', 'OTU93_451', {'weight': 1}), ('Pleioblastus_chino', 'OTU93_539', {'weight': 1}), ('Pleioblastus_chino', 'OTU93_571', {'weight': 2}), ('Pleioblastus_chino', 'OTU93_577', {'weight': 1}), ('Pleioblastus_chino', 'OTU93_581', {'weight': 1}), ('Pleioblastus_chino', 'OTU93_593', {'weight': 1}), ('Pleioblastus_chino', 'OTU93_609', {'weight': 1}), ('Pleioblastus_chino', 'OTU93_635', {'weight': 1}), ('Pleioblastus_chino', 'OTU93_675', {'weight': 1}), ('Pleioblastus_chino', 'OTU93_683', {'weight': 1}), ('Pleioblastus_chino', 'OTU93_69', {'weight': 5}), ('Pleioblastus_chino', 'OTU93_759', {'weight': 1}), ('Pleioblastus_chino', 'OTU93_801', {'weight': 1}), ('Prunus_grayana', 'OTU93_1021', {'weight': 1}), ('Prunus_grayana', 'OTU93_1041', {'weight': 1}), ('Prunus_grayana', 'OTU93_1045', {'weight': 2}), ('Prunus_grayana', 'OTU93_1053', {'weight': 1}), ('Prunus_grayana', 'OTU93_1067', {'weight': 2}), ('Prunus_grayana', 'OTU93_1089', {'weight': 1}), ('Prunus_grayana', 'OTU93_1113', {'weight': 1}), ('Prunus_grayana', 'OTU93_113', {'weight': 3}), ('Prunus_grayana', 'OTU93_1131', {'weight': 1}), ('Prunus_grayana', 'OTU93_1135', {'weight': 1}), ('Prunus_grayana', 'OTU93_1157', {'weight': 2}), ('Prunus_grayana', 'OTU93_117', {'weight': 2}), ('Prunus_grayana', 'OTU93_121', {'weight': 1}), ('Prunus_grayana', 'OTU93_1243', {'weight': 1}), ('Prunus_grayana', 'OTU93_1245', {'weight': 2}), ('Prunus_grayana', 'OTU93_1247', {'weight': 1}), ('Prunus_grayana', 'OTU93_1289', {'weight': 1}), ('Prunus_grayana', 'OTU93_1317', {'weight': 1}), ('Prunus_grayana', 'OTU93_1325', {'weight': 2}), ('Prunus_grayana', 'OTU93_1327', {'weight': 2}), ('Prunus_grayana', 'OTU93_133', {'weight': 1}), ('Prunus_grayana', 'OTU93_1333', {'weight': 1}), ('Prunus_grayana', 'OTU93_1339', {'weight': 1}), ('Prunus_grayana', 'OTU93_1341', {'weight': 4}), ('Prunus_grayana', 'OTU93_1343', {'weight': 1}), ('Prunus_grayana', 'OTU93_1345', {'weight': 6}), ('Prunus_grayana', 'OTU93_1347', {'weight': 4}), ('Prunus_grayana', 'OTU93_1349', {'weight': 1}), ('Prunus_grayana', 'OTU93_1351', {'weight': 4}), ('Prunus_grayana', 'OTU93_1355', {'weight': 2}), ('Prunus_grayana', 'OTU93_1357', {'weight': 2}), ('Prunus_grayana', 'OTU93_1359', {'weight': 1}), ('Prunus_grayana', 'OTU93_1361', {'weight': 2}), ('Prunus_grayana', 'OTU93_1363', {'weight': 1}), ('Prunus_grayana', 'OTU93_165', {'weight': 1}), ('Prunus_grayana', 'OTU93_175', {'weight': 2}), ('Prunus_grayana', 'OTU93_179', {'weight': 1}), ('Prunus_grayana', 'OTU93_181', {'weight': 1}), ('Prunus_grayana', 'OTU93_199', {'weight': 1}), ('Prunus_grayana', 'OTU93_221', {'weight': 3}), ('Prunus_grayana', 'OTU93_25', {'weight': 3}), ('Prunus_grayana', 'OTU93_295', {'weight': 5}), ('Prunus_grayana', 'OTU93_301', {'weight': 1}), ('Prunus_grayana', 'OTU93_41', {'weight': 2}), ('Prunus_grayana', 'OTU93_417', {'weight': 10}), ('Prunus_grayana', 'OTU93_437', {'weight': 1}), ('Prunus_grayana', 'OTU93_443', {'weight': 2}), ('Prunus_grayana', 'OTU93_457', {'weight': 1}), ('Prunus_grayana', 'OTU93_459', {'weight': 1}), ('Prunus_grayana', 'OTU93_461', {'weight': 2}), ('Prunus_grayana', 'OTU93_465', {'weight': 1}), ('Prunus_grayana', 'OTU93_467', {'weight': 1}), ('Prunus_grayana', 'OTU93_47', {'weight': 1}), ('Prunus_grayana', 'OTU93_481', {'weight': 2}), ('Prunus_grayana', 'OTU93_501', {'weight': 1}), ('Prunus_grayana', 'OTU93_513', {'weight': 2}), ('Prunus_grayana', 'OTU93_525', {'weight': 1}), ('Prunus_grayana', 'OTU93_543', {'weight': 1}), ('Prunus_grayana', 'OTU93_551', {'weight': 2}), ('Prunus_grayana', 'OTU93_567', {'weight': 1}), ('Prunus_grayana', 'OTU93_571', {'weight': 3}), ('Prunus_grayana', 'OTU93_573', {'weight': 2}), ('Prunus_grayana', 'OTU93_577', {'weight': 6}), ('Prunus_grayana', 'OTU93_581', {'weight': 4}), ('Prunus_grayana', 'OTU93_609', {'weight': 2}), ('Prunus_grayana', 'OTU93_63', {'weight': 1}), ('Prunus_grayana', 'OTU93_639', {'weight': 1}), ('Prunus_grayana', 'OTU93_667', {'weight': 1}), ('Prunus_grayana', 'OTU93_67', {'weight': 1}), ('Prunus_grayana', 'OTU93_673', {'weight': 1}), ('Prunus_grayana', 'OTU93_69', {'weight': 29}), ('Prunus_grayana', 'OTU93_739', {'weight': 1}), ('Prunus_grayana', 'OTU93_747', {'weight': 1}), ('Prunus_grayana', 'OTU93_779', {'weight': 2}), ('Prunus_grayana', 'OTU93_801', {'weight': 1}), ('Prunus_grayana', 'OTU93_889', {'weight': 1}), ('Prunus_grayana', 'OTU93_891', {'weight': 2}), ('Prunus_grayana', 'OTU93_91', {'weight': 3}), ('Prunus_grayana', 'OTU93_935', {'weight': 1}), ('Prunus_grayana', 'OTU93_979', {'weight': 1}), ('Prunus_jamasakura', 'OTU93_1089', {'weight': 1}), ('Prunus_jamasakura', 'OTU93_1113', {'weight': 3}), ('Prunus_jamasakura', 'OTU93_1225', {'weight': 1}), ('Prunus_jamasakura', 'OTU93_1333', {'weight': 1}), ('Prunus_jamasakura', 'OTU93_1339', {'weight': 2}), ('Prunus_jamasakura', 'OTU93_1345', {'weight': 5}), ('Prunus_jamasakura', 'OTU93_1349', {'weight': 1}), ('Prunus_jamasakura', 'OTU93_1355', {'weight': 2}), ('Prunus_jamasakura', 'OTU93_1359', {'weight': 1}), ('Prunus_jamasakura', 'OTU93_171', {'weight': 1}), ('Prunus_jamasakura', 'OTU93_19', {'weight': 1}), ('Prunus_jamasakura', 'OTU93_219', {'weight': 1}), ('Prunus_jamasakura', 'OTU93_221', {'weight': 2}), ('Prunus_jamasakura', 'OTU93_25', {'weight': 4}), ('Prunus_jamasakura', 'OTU93_277', {'weight': 1}), ('Prunus_jamasakura', 'OTU93_293', {'weight': 1}), ('Prunus_jamasakura', 'OTU93_295', {'weight': 1}), ('Prunus_jamasakura', 'OTU93_41', {'weight': 2}), ('Prunus_jamasakura', 'OTU93_417', {'weight': 1}), ('Prunus_jamasakura', 'OTU93_421', {'weight': 1}), ('Prunus_jamasakura', 'OTU93_467', {'weight': 1}), ('Prunus_jamasakura', 'OTU93_47', {'weight': 1}), ('Prunus_jamasakura', 'OTU93_483', {'weight': 1}), ('Prunus_jamasakura', 'OTU93_49', {'weight': 1}), ('Prunus_jamasakura', 'OTU93_563', {'weight': 1}), ('Prunus_jamasakura', 'OTU93_569', {'weight': 1}), ('Prunus_jamasakura', 'OTU93_57', {'weight': 2}), ('Prunus_jamasakura', 'OTU93_573', {'weight': 1}), ('Prunus_jamasakura', 'OTU93_581', {'weight': 1}), ('Prunus_jamasakura', 'OTU93_587', {'weight': 1}), ('Prunus_jamasakura', 'OTU93_597', {'weight': 1}), ('Prunus_jamasakura', 'OTU93_609', {'weight': 1}), ('Prunus_jamasakura', 'OTU93_69', {'weight': 14}), ('Prunus_jamasakura', 'OTU93_731', {'weight': 1}), ('Prunus_jamasakura', 'OTU93_843', {'weight': 1}), ('Prunus_jamasakura', 'OTU93_883', {'weight': 1}), ('Prunus_jamasakura', 'OTU93_889', {'weight': 2}), ('Prunus_jamasakura', 'OTU93_91', {'weight': 2}), ('Prunus_jamasakura', 'OTU93_935', {'weight': 1}), ('Quercus_glauca', 'OTU93_1', {'weight': 1}), ('Quercus_glauca', 'OTU93_1001', {'weight': 1}), ('Quercus_glauca', 'OTU93_1045', {'weight': 1}), ('Quercus_glauca', 'OTU93_1053', {'weight': 1}), ('Quercus_glauca', 'OTU93_1059', {'weight': 1}), ('Quercus_glauca', 'OTU93_1065', {'weight': 1}), ('Quercus_glauca', 'OTU93_1067', {'weight': 8}), ('Quercus_glauca', 'OTU93_1087', {'weight': 1}), ('Quercus_glauca', 'OTU93_1089', {'weight': 3}), ('Quercus_glauca', 'OTU93_1103', {'weight': 1}), ('Quercus_glauca', 'OTU93_1111', {'weight': 1}), ('Quercus_glauca', 'OTU93_1113', {'weight': 9}), ('Quercus_glauca', 'OTU93_113', {'weight': 2}), ('Quercus_glauca', 'OTU93_1133', {'weight': 1}), ('Quercus_glauca', 'OTU93_1141', {'weight': 1}), ('Quercus_glauca', 'OTU93_1151', {'weight': 1}), ('Quercus_glauca', 'OTU93_1157', {'weight': 32}), ('Quercus_glauca', 'OTU93_117', {'weight': 2}), ('Quercus_glauca', 'OTU93_1173', {'weight': 1}), ('Quercus_glauca', 'OTU93_1177', {'weight': 1}), ('Quercus_glauca', 'OTU93_119', {'weight': 2}), ('Quercus_glauca', 'OTU93_1195', {'weight': 1}), ('Quercus_glauca', 'OTU93_1201', {'weight': 1}), ('Quercus_glauca', 'OTU93_1223', {'weight': 2}), ('Quercus_glauca', 'OTU93_1267', {'weight': 3}), ('Quercus_glauca', 'OTU93_1289', {'weight': 2}), ('Quercus_glauca', 'OTU93_131', {'weight': 1}), ('Quercus_glauca', 'OTU93_1311', {'weight': 1}), ('Quercus_glauca', 'OTU93_1317', {'weight': 2}), ('Quercus_glauca', 'OTU93_1323', {'weight': 1}), ('Quercus_glauca', 'OTU93_1325', {'weight': 1}), ('Quercus_glauca', 'OTU93_1333', {'weight': 1}), ('Quercus_glauca', 'OTU93_1337', {'weight': 6}), ('Quercus_glauca', 'OTU93_1339', {'weight': 3}), ('Quercus_glauca', 'OTU93_1341', {'weight': 2}), ('Quercus_glauca', 'OTU93_1343', {'weight': 2}), ('Quercus_glauca', 'OTU93_1345', {'weight': 4}), ('Quercus_glauca', 'OTU93_1347', {'weight': 27}), ('Quercus_glauca', 'OTU93_1349', {'weight': 4}), ('Quercus_glauca', 'OTU93_135', {'weight': 8}), ('Quercus_glauca', 'OTU93_1351', {'weight': 25}), ('Quercus_glauca', 'OTU93_1357', {'weight': 14}), ('Quercus_glauca', 'OTU93_1363', {'weight': 9}), ('Quercus_glauca', 'OTU93_1367', {'weight': 9}), ('Quercus_glauca', 'OTU93_1373', {'weight': 1}), ('Quercus_glauca', 'OTU93_157', {'weight': 1}), ('Quercus_glauca', 'OTU93_159', {'weight': 1}), ('Quercus_glauca', 'OTU93_171', {'weight': 3}), ('Quercus_glauca', 'OTU93_173', {'weight': 1}), ('Quercus_glauca', 'OTU93_185', {'weight': 1}), ('Quercus_glauca', 'OTU93_189', {'weight': 3}), ('Quercus_glauca', 'OTU93_193', {'weight': 1}), ('Quercus_glauca', 'OTU93_203', {'weight': 2}), ('Quercus_glauca', 'OTU93_205', {'weight': 1}), ('Quercus_glauca', 'OTU93_211', {'weight': 1}), ('Quercus_glauca', 'OTU93_215', {'weight': 1}), ('Quercus_glauca', 'OTU93_221', {'weight': 1}), ('Quercus_glauca', 'OTU93_23', {'weight': 2}), ('Quercus_glauca', 'OTU93_231', {'weight': 7}), ('Quercus_glauca', 'OTU93_233', {'weight': 1}), ('Quercus_glauca', 'OTU93_243', {'weight': 1}), ('Quercus_glauca', 'OTU93_245', {'weight': 1}), ('Quercus_glauca', 'OTU93_25', {'weight': 41}), ('Quercus_glauca', 'OTU93_255', {'weight': 1}), ('Quercus_glauca', 'OTU93_257', {'weight': 1}), ('Quercus_glauca', 'OTU93_263', {'weight': 1}), ('Quercus_glauca', 'OTU93_279', {'weight': 1}), ('Quercus_glauca', 'OTU93_3', {'weight': 47}), ('Quercus_glauca', 'OTU93_301', {'weight': 28}), ('Quercus_glauca', 'OTU93_321', {'weight': 1}), ('Quercus_glauca', 'OTU93_327', {'weight': 1}), ('Quercus_glauca', 'OTU93_337', {'weight': 1}), ('Quercus_glauca', 'OTU93_35', {'weight': 1}), ('Quercus_glauca', 'OTU93_351', {'weight': 1}), ('Quercus_glauca', 'OTU93_39', {'weight': 1}), ('Quercus_glauca', 'OTU93_417', {'weight': 13}), ('Quercus_glauca', 'OTU93_425', {'weight': 1}), ('Quercus_glauca', 'OTU93_427', {'weight': 6}), ('Quercus_glauca', 'OTU93_433', {'weight': 1}), ('Quercus_glauca', 'OTU93_437', {'weight': 4}), ('Quercus_glauca', 'OTU93_439', {'weight': 1}), ('Quercus_glauca', 'OTU93_441', {'weight': 2}), ('Quercus_glauca', 'OTU93_443', {'weight': 4}), ('Quercus_glauca', 'OTU93_445', {'weight': 2}), ('Quercus_glauca', 'OTU93_449', {'weight': 5}), ('Quercus_glauca', 'OTU93_451', {'weight': 1}), ('Quercus_glauca', 'OTU93_457', {'weight': 1}), ('Quercus_glauca', 'OTU93_463', {'weight': 2}), ('Quercus_glauca', 'OTU93_47', {'weight': 3}), ('Quercus_glauca', 'OTU93_473', {'weight': 2}), ('Quercus_glauca', 'OTU93_487', {'weight': 2}), ('Quercus_glauca', 'OTU93_491', {'weight': 1}), ('Quercus_glauca', 'OTU93_493', {'weight': 1}), ('Quercus_glauca', 'OTU93_499', {'weight': 1}), ('Quercus_glauca', 'OTU93_5', {'weight': 1}), ('Quercus_glauca', 'OTU93_501', {'weight': 1}), ('Quercus_glauca', 'OTU93_503', {'weight': 19}), ('Quercus_glauca', 'OTU93_505', {'weight': 3}), ('Quercus_glauca', 'OTU93_509', {'weight': 2}), ('Quercus_glauca', 'OTU93_513', {'weight': 6}), ('Quercus_glauca', 'OTU93_519', {'weight': 1}), ('Quercus_glauca', 'OTU93_547', {'weight': 1}), ('Quercus_glauca', 'OTU93_553', {'weight': 1}), ('Quercus_glauca', 'OTU93_561', {'weight': 1}), ('Quercus_glauca', 'OTU93_565', {'weight': 1}), ('Quercus_glauca', 'OTU93_567', {'weight': 3}), ('Quercus_glauca', 'OTU93_569', {'weight': 5}), ('Quercus_glauca', 'OTU93_571', {'weight': 10}), ('Quercus_glauca', 'OTU93_573', {'weight': 7}), ('Quercus_glauca', 'OTU93_577', {'weight': 9}), ('Quercus_glauca', 'OTU93_581', {'weight': 30}), ('Quercus_glauca', 'OTU93_589', {'weight': 2}), ('Quercus_glauca', 'OTU93_591', {'weight': 1}), ('Quercus_glauca', 'OTU93_601', {'weight': 2}), ('Quercus_glauca', 'OTU93_609', {'weight': 3}), ('Quercus_glauca', 'OTU93_625', {'weight': 1}), ('Quercus_glauca', 'OTU93_67', {'weight': 4}), ('Quercus_glauca', 'OTU93_671', {'weight': 1}), ('Quercus_glauca', 'OTU93_687', {'weight': 1}), ('Quercus_glauca', 'OTU93_689', {'weight': 1}), ('Quercus_glauca', 'OTU93_69', {'weight': 123}), ('Quercus_glauca', 'OTU93_693', {'weight': 1}), ('Quercus_glauca', 'OTU93_727', {'weight': 1}), ('Quercus_glauca', 'OTU93_757', {'weight': 2}), ('Quercus_glauca', 'OTU93_759', {'weight': 1}), ('Quercus_glauca', 'OTU93_77', {'weight': 2}), ('Quercus_glauca', 'OTU93_801', {'weight': 3}), ('Quercus_glauca', 'OTU93_841', {'weight': 1}), ('Quercus_glauca', 'OTU93_853', {'weight': 1}), ('Quercus_glauca', 'OTU93_867', {'weight': 4}), ('Quercus_glauca', 'OTU93_869', {'weight': 1}), ('Quercus_glauca', 'OTU93_895', {'weight': 1}), ('Quercus_glauca', 'OTU93_901', {'weight': 1}), ('Quercus_glauca', 'OTU93_91', {'weight': 4}), ('Quercus_glauca', 'OTU93_913', {'weight': 25}), ('Quercus_glauca', 'OTU93_935', {'weight': 2}), ('Quercus_glauca', 'OTU93_957', {'weight': 1}), ('Quercus_glauca', 'OTU93_979', {'weight': 9}), ('Quercus_serrata', 'OTU93_1', {'weight': 2}), ('Quercus_serrata', 'OTU93_1001', {'weight': 21}), ('Quercus_serrata', 'OTU93_1011', {'weight': 1}), ('Quercus_serrata', 'OTU93_1023', {'weight': 1}), ('Quercus_serrata', 'OTU93_1027', {'weight': 1}), ('Quercus_serrata', 'OTU93_1035', {'weight': 1}), ('Quercus_serrata', 'OTU93_1045', {'weight': 2}), ('Quercus_serrata', 'OTU93_1067', {'weight': 8}), ('Quercus_serrata', 'OTU93_1069', {'weight': 1}), ('Quercus_serrata', 'OTU93_1089', {'weight': 4}), ('Quercus_serrata', 'OTU93_1113', {'weight': 13}), ('Quercus_serrata', 'OTU93_1123', {'weight': 1}), ('Quercus_serrata', 'OTU93_113', {'weight': 1}), ('Quercus_serrata', 'OTU93_1131', {'weight': 2}), ('Quercus_serrata', 'OTU93_1139', {'weight': 1}), ('Quercus_serrata', 'OTU93_1157', {'weight': 29}), ('Quercus_serrata', 'OTU93_117', {'weight': 3}), ('Quercus_serrata', 'OTU93_1181', {'weight': 1}), ('Quercus_serrata', 'OTU93_119', {'weight': 1}), ('Quercus_serrata', 'OTU93_1223', {'weight': 1}), ('Quercus_serrata', 'OTU93_1265', {'weight': 1}), ('Quercus_serrata', 'OTU93_1267', {'weight': 1}), ('Quercus_serrata', 'OTU93_1281', {'weight': 1}), ('Quercus_serrata', 'OTU93_1285', {'weight': 2}), ('Quercus_serrata', 'OTU93_1289', {'weight': 10}), ('Quercus_serrata', 'OTU93_1313', {'weight': 1}), ('Quercus_serrata', 'OTU93_1315', {'weight': 1}), ('Quercus_serrata', 'OTU93_1323', {'weight': 4}), ('Quercus_serrata', 'OTU93_1325', {'weight': 1}), ('Quercus_serrata', 'OTU93_1329', {'weight': 1}), ('Quercus_serrata', 'OTU93_1333', {'weight': 1}), ('Quercus_serrata', 'OTU93_1337', {'weight': 3}), ('Quercus_serrata', 'OTU93_1339', {'weight': 7}), ('Quercus_serrata', 'OTU93_1341', {'weight': 1}), ('Quercus_serrata', 'OTU93_1343', {'weight': 1}), ('Quercus_serrata', 'OTU93_1345', {'weight': 6}), ('Quercus_serrata', 'OTU93_1347', {'weight': 15}), ('Quercus_serrata', 'OTU93_1349', {'weight': 1}), ('Quercus_serrata', 'OTU93_135', {'weight': 11}), ('Quercus_serrata', 'OTU93_1351', {'weight': 21}), ('Quercus_serrata', 'OTU93_1355', {'weight': 1}), ('Quercus_serrata', 'OTU93_1357', {'weight': 23}), ('Quercus_serrata', 'OTU93_1359', {'weight': 3}), ('Quercus_serrata', 'OTU93_1363', {'weight': 13}), ('Quercus_serrata', 'OTU93_1367', {'weight': 2}), ('Quercus_serrata', 'OTU93_1373', {'weight': 1}), ('Quercus_serrata', 'OTU93_157', {'weight': 2}), ('Quercus_serrata', 'OTU93_171', {'weight': 1}), ('Quercus_serrata', 'OTU93_177', {'weight': 1}), ('Quercus_serrata', 'OTU93_179', {'weight': 1}), ('Quercus_serrata', 'OTU93_197', {'weight': 1}), ('Quercus_serrata', 'OTU93_199', {'weight': 1}), ('Quercus_serrata', 'OTU93_203', {'weight': 1}), ('Quercus_serrata', 'OTU93_211', {'weight': 1}), ('Quercus_serrata', 'OTU93_217', {'weight': 2}), ('Quercus_serrata', 'OTU93_221', {'weight': 2}), ('Quercus_serrata', 'OTU93_223', {'weight': 2}), ('Quercus_serrata', 'OTU93_231', {'weight': 5}), ('Quercus_serrata', 'OTU93_249', {'weight': 1}), ('Quercus_serrata', 'OTU93_25', {'weight': 40}), ('Quercus_serrata', 'OTU93_251', {'weight': 2}), ('Quercus_serrata', 'OTU93_265', {'weight': 1}), ('Quercus_serrata', 'OTU93_3', {'weight': 4}), ('Quercus_serrata', 'OTU93_301', {'weight': 12}), ('Quercus_serrata', 'OTU93_303', {'weight': 1}), ('Quercus_serrata', 'OTU93_313', {'weight': 1}), ('Quercus_serrata', 'OTU93_335', {'weight': 1}), ('Quercus_serrata', 'OTU93_417', {'weight': 9}), ('Quercus_serrata', 'OTU93_421', {'weight': 9}), ('Quercus_serrata', 'OTU93_425', {'weight': 7}), ('Quercus_serrata', 'OTU93_43', {'weight': 1}), ('Quercus_serrata', 'OTU93_437', {'weight': 4}), ('Quercus_serrata', 'OTU93_441', {'weight': 1}), ('Quercus_serrata', 'OTU93_443', {'weight': 4}), ('Quercus_serrata', 'OTU93_445', {'weight': 2}), ('Quercus_serrata', 'OTU93_449', {'weight': 9}), ('Quercus_serrata', 'OTU93_451', {'weight': 1}), ('Quercus_serrata', 'OTU93_459', {'weight': 1}), ('Quercus_serrata', 'OTU93_465', {'weight': 1}), ('Quercus_serrata', 'OTU93_47', {'weight': 5}), ('Quercus_serrata', 'OTU93_471', {'weight': 1}), ('Quercus_serrata', 'OTU93_473', {'weight': 1}), ('Quercus_serrata', 'OTU93_475', {'weight': 4}), ('Quercus_serrata', 'OTU93_483', {'weight': 6}), ('Quercus_serrata', 'OTU93_485', {'weight': 5}), ('Quercus_serrata', 'OTU93_487', {'weight': 1}), ('Quercus_serrata', 'OTU93_497', {'weight': 1}), ('Quercus_serrata', 'OTU93_499', {'weight': 1}), ('Quercus_serrata', 'OTU93_503', {'weight': 1}), ('Quercus_serrata', 'OTU93_505', {'weight': 8}), ('Quercus_serrata', 'OTU93_513', {'weight': 2}), ('Quercus_serrata', 'OTU93_519', {'weight': 3}), ('Quercus_serrata', 'OTU93_523', {'weight': 2}), ('Quercus_serrata', 'OTU93_525', {'weight': 2}), ('Quercus_serrata', 'OTU93_529', {'weight': 1}), ('Quercus_serrata', 'OTU93_541', {'weight': 1}), ('Quercus_serrata', 'OTU93_543', {'weight': 1}), ('Quercus_serrata', 'OTU93_547', {'weight': 1}), ('Quercus_serrata', 'OTU93_549', {'weight': 3}), ('Quercus_serrata', 'OTU93_555', {'weight': 1}), ('Quercus_serrata', 'OTU93_565', {'weight': 2}), ('Quercus_serrata', 'OTU93_567', {'weight': 4}), ('Quercus_serrata', 'OTU93_569', {'weight': 1}), ('Quercus_serrata', 'OTU93_571', {'weight': 6}), ('Quercus_serrata', 'OTU93_573', {'weight': 7}), ('Quercus_serrata', 'OTU93_577', {'weight': 6}), ('Quercus_serrata', 'OTU93_579', {'weight': 1}), ('Quercus_serrata', 'OTU93_581', {'weight': 15}), ('Quercus_serrata', 'OTU93_589', {'weight': 1}), ('Quercus_serrata', 'OTU93_597', {'weight': 1}), ('Quercus_serrata', 'OTU93_609', {'weight': 2}), ('Quercus_serrata', 'OTU93_67', {'weight': 2}), ('Quercus_serrata', 'OTU93_681', {'weight': 1}), ('Quercus_serrata', 'OTU93_69', {'weight': 109}), ('Quercus_serrata', 'OTU93_729', {'weight': 1}), ('Quercus_serrata', 'OTU93_755', {'weight': 1}), ('Quercus_serrata', 'OTU93_757', {'weight': 4}), ('Quercus_serrata', 'OTU93_759', {'weight': 2}), ('Quercus_serrata', 'OTU93_777', {'weight': 1}), ('Quercus_serrata', 'OTU93_783', {'weight': 1}), ('Quercus_serrata', 'OTU93_801', {'weight': 6}), ('Quercus_serrata', 'OTU93_805', {'weight': 1}), ('Quercus_serrata', 'OTU93_853', {'weight': 1}), ('Quercus_serrata', 'OTU93_869', {'weight': 2}), ('Quercus_serrata', 'OTU93_89', {'weight': 2}), ('Quercus_serrata', 'OTU93_895', {'weight': 1}), ('Quercus_serrata', 'OTU93_91', {'weight': 3}), ('Quercus_serrata', 'OTU93_913', {'weight': 14}), ('Quercus_serrata', 'OTU93_915', {'weight': 2}), ('Quercus_serrata', 'OTU93_935', {'weight': 1}), ('Quercus_serrata', 'OTU93_957', {'weight': 1}), ('Quercus_serrata', 'OTU93_959', {'weight': 1}), ('Quercus_serrata', 'OTU93_977', {'weight': 1}), ('Quercus_serrata', 'OTU93_979', {'weight': 16}), ('Quercus_serrata', 'OTU93_985', {'weight': 1}), ('Rhododendron_macrosepalum', 'OTU93_1023', {'weight': 1}), ('Rhododendron_macrosepalum', 'OTU93_505', {'weight': 1}), ('Smilax_china', 'OTU93_105', {'weight': 1}), ('Smilax_china', 'OTU93_1113', {'weight': 2}), ('Smilax_china', 'OTU93_1345', {'weight': 1}), ('Smilax_china', 'OTU93_1361', {'weight': 1}), ('Smilax_china', 'OTU93_25', {'weight': 1}), ('Smilax_china', 'OTU93_271', {'weight': 1}), ('Smilax_china', 'OTU93_417', {'weight': 1}), ('Smilax_china', 'OTU93_439', {'weight': 1}), ('Smilax_china', 'OTU93_441', {'weight': 1}), ('Smilax_china', 'OTU93_47', {'weight': 1}), ('Smilax_china', 'OTU93_513', {'weight': 1}), ('Smilax_china', 'OTU93_531', {'weight': 2}), ('Smilax_china', 'OTU93_571', {'weight': 2}), ('Smilax_china', 'OTU93_69', {'weight': 6}), ('Smilax_china', 'OTU93_847', {'weight': 1}), ('Maleae_sp.', 'OTU93_1089', {'weight': 1}), ('Maleae_sp.', 'OTU93_1113', {'weight': 1}), ('Maleae_sp.', 'OTU93_1131', {'weight': 1}), ('Maleae_sp.', 'OTU93_1255', {'weight': 1}), ('Maleae_sp.', 'OTU93_1345', {'weight': 1}), ('Maleae_sp.', 'OTU93_171', {'weight': 1}), ('Maleae_sp.', 'OTU93_245', {'weight': 1}), ('Maleae_sp.', 'OTU93_25', {'weight': 2}), ('Maleae_sp.', 'OTU93_293', {'weight': 1}), ('Maleae_sp.', 'OTU93_467', {'weight': 1}), ('Maleae_sp.', 'OTU93_505', {'weight': 1}), ('Maleae_sp.', 'OTU93_571', {'weight': 1}), ('Maleae_sp.', 'OTU93_573', {'weight': 1}), ('Maleae_sp.', 'OTU93_69', {'weight': 5}), ('Toxicodendron_sp.', 'OTU93_1089', {'weight': 1}), ('Vaccinium_bracteatum', 'OTU93_1113', {'weight': 2}), ('Vaccinium_bracteatum', 'OTU93_1139', {'weight': 1}), ('Vaccinium_bracteatum', 'OTU93_1345', {'weight': 1}), ('Vaccinium_bracteatum', 'OTU93_1359', {'weight': 1}), ('Vaccinium_bracteatum', 'OTU93_25', {'weight': 1}), ('Vaccinium_bracteatum', 'OTU93_69', {'weight': 1}), ('Hypnales_sp.', 'OTU93_1023', {'weight': 1}), ('Hypnales_sp.', 'OTU93_271', {'weight': 1}), ('Hypnales_sp.', 'OTU93_441', {'weight': 1}), ('Hypnales_sp.', 'OTU93_503', {'weight': 1})]\n"
     ]
    }
   ],
   "source": [
    "import networkx as nx\n",
    "\n",
    "# create an empty graph\n",
    "G = nx.Graph()\n",
    "\n",
    "# add nodes\n",
    "G.add_nodes_from(list(df.index))\n",
    "G.add_nodes_from(list(df.columns))\n",
    "\n",
    "# add weighted edges\n",
    "for plant in list(df.index):\n",
    "    for fungus in list(df.columns):\n",
    "        if df[fungus][plant] > 0:\n",
    "            G.add_edge(plant, fungus, weight=df[fungus][plant])\n",
    "\n",
    "# print the graph\n",
    "print(G.edges(data=True))\n"
   ]
  },
  {
   "cell_type": "markdown",
   "id": "759a926d",
   "metadata": {},
   "source": [
    "# Generate and Graph Communities"
   ]
  },
  {
   "cell_type": "code",
   "execution_count": 65,
   "id": "30f4a6df",
   "metadata": {},
   "outputs": [
    {
     "name": "stdout",
     "output_type": "stream",
     "text": [
      "Community 0: frozenset({'OTU93_327', 'OTU93_351', 'OTU93_39', 'OTU93_215', 'OTU93_279', 'OTU93_1317', 'OTU93_185', 'OTU93_553', 'OTU93_35', 'Quercus_glauca', 'OTU93_561', 'OTU93_487', 'OTU93_1195', 'OTU93_895', 'OTU93_1311', 'OTU93_77', 'OTU93_189', 'OTU93_193', 'OTU93_625', 'OTU93_1065', 'OTU93_1141', 'OTU93_841', 'OTU93_509', 'OTU93_233', 'OTU93_135', 'OTU93_901', 'OTU93_445', 'OTU93_671', 'OTU93_433', 'OTU93_263', 'OTU93_493', 'OTU93_547', 'OTU93_565', 'OTU93_1177', 'OTU93_243', 'OTU93_173', 'OTU93_1103', 'OTU93_693', 'OTU93_601', 'OTU93_131', 'OTU93_935', 'OTU93_1201', 'OTU93_257', 'OTU93_689', 'OTU93_255', 'OTU93_113', 'OTU93_1053', 'OTU93_687', 'OTU93_1087', 'OTU93_1133', 'OTU93_501', 'OTU93_491', 'OTU93_337', 'OTU93_1151', 'OTU93_727', 'OTU93_321', 'OTU93_1059', 'OTU93_1173', 'OTU93_867', 'OTU93_591'})\n",
      "Community 1: frozenset({'OTU93_1055', 'OTU93_1361', 'OTU93_67', 'OTU93_639', 'OTU93_437', 'OTU93_1245', 'OTU93_19', 'OTU93_123', 'OTU93_457', 'OTU93_461', 'Prunus_grayana', 'OTU93_949', 'OTU93_63', 'OTU93_1345', 'OTU93_175', 'OTU93_943', 'OTU93_1045', 'OTU93_747', 'OTU93_465', 'Diospyros_kaki', 'Gamblea_innovans', 'OTU93_181', 'OTU93_1341', 'OTU93_121', 'OTU93_979', 'OTU93_1243', 'OTU93_165', 'OTU93_741', 'OTU93_849', 'OTU93_23', 'OTU93_1247', 'OTU93_1067', 'OTU93_981', 'OTU93_301', 'OTU93_667', 'OTU93_1075', 'OTU93_1333', 'OTU93_1021', 'Ilex_macropoda', 'OTU93_887', 'OTU93_559', 'OTU93_1289', 'OTU93_739', 'OTU93_1325', 'OTU93_515', 'OTU93_571', 'Cinnamomum_camphora', 'OTU93_757', 'Mallotus_japonicus', 'OTU93_1041', 'OTU93_673', 'OTU93_1357', 'OTU93_295', 'OTU93_551', 'OTU93_145'})\n",
      "Community 2: frozenset({'OTU93_869', 'OTU93_249', 'OTU93_853', 'OTU93_777', 'OTU93_475', 'OTU93_915', 'OTU93_335', 'OTU93_223', 'OTU93_755', 'OTU93_471', 'OTU93_231', 'OTU93_179', 'OTU93_221', 'OTU93_1027', 'OTU93_89', 'OTU93_197', 'OTU93_211', 'OTU93_313', 'OTU93_555', 'OTU93_543', 'OTU93_1315', 'OTU93_177', 'OTU93_569', 'OTU93_119', 'OTU93_1373', 'OTU93_1123', 'OTU93_541', 'OTU93_217', 'OTU93_1281', 'OTU93_783', 'OTU93_265', 'OTU93_1265', 'OTU93_985', 'OTU93_157', 'OTU93_1313', 'Quercus_serrata', 'OTU93_1035', 'OTU93_681', 'OTU93_1', 'OTU93_805', 'OTU93_43', 'OTU93_1367', 'OTU93_729', 'OTU93_199', 'OTU93_1181', 'OTU93_529', 'OTU93_959', 'OTU93_251', 'OTU93_525', 'OTU93_977', 'OTU93_1011', 'OTU93_303', 'OTU93_1223', 'OTU93_1069', 'OTU93_473'})\n",
      "Community 3: frozenset({'OTU93_889', 'OTU93_1283', 'Smilax_china', 'OTU93_1057', 'OTU93_1285', 'OTU93_1139', 'OTU93_609', 'OTU93_49', 'Parthenocissus_tricuspidata', 'OTU93_47', 'OTU93_171', 'OTU93_443', 'OTU93_57', 'Prunus_jamasakura', 'OTU93_1225', 'OTU93_1131', 'OTU93_1113', 'OTU93_69', 'OTU93_339', 'OTU93_1255', 'OTU93_847', 'OTU93_441', 'Cornus_sp.', 'OTU93_105', 'OTU93_1077', 'Acer_palmatum', 'OTU93_653', 'OTU93_843', 'Lophatherum_gracile', 'OTU93_293', 'Myrica_rubra', 'OTU93_219', 'Maleae_sp.', 'OTU93_93', 'OTU93_467', 'Camellia_japonica', 'OTU93_1339', 'OTU93_573', 'OTU93_531', 'OTU93_563', 'OTU93_1359', 'OTU93_25', 'OTU93_883', 'Vaccinium_bracteatum'})\n",
      "Community 4: frozenset({'OTU93_913', 'OTU93_957', 'OTU93_579', 'OTU93_413', 'OTU93_299', 'OTU93_581', 'Clethra_barbinervis', 'Rhododendron_macrosepalum', 'OTU93_1079', 'Fabaceae_sp.', 'OTU93_545', 'OTU93_577', 'Hypnales_sp.', 'OTU93_271', 'OTU93_1105', 'OTU93_891', 'OTU93_505', 'OTU93_273', 'OTU93_825', 'OTU93_277', 'OTU93_521', 'OTU93_1321', 'OTU93_435', 'OTU93_117', 'OTU93_1337', 'OTU93_503', 'Poales_sp.', 'OTU93_201', 'Lyonia_ovalifolia', 'OTU93_831', 'OTU93_1301', 'OTU93_519', 'OTU93_703', 'OTU93_479', 'OTU93_1221', 'OTU93_21', 'OTU93_1093', 'OTU93_1085', 'OTU93_91', 'Cleyera_japonica', 'OTU93_1023', 'OTU93_1335'})\n",
      "Community 5: frozenset({'OTU93_3', 'OTU93_731', 'OTU93_459', 'OTU93_81', 'OTU93_267', 'OTU93_879', 'OTU93_955', 'OTU93_1267', 'OTU93_497', 'OTU93_1331', 'OTU93_239', 'OTU93_499', 'OTU93_685', 'OTU93_817', 'Pinus_densiflora', 'OTU93_773', 'OTU93_1083', 'OTU93_429', 'OTU93_449', 'OTU93_713', 'OTU93_5', 'OTU93_253', 'OTU93_305', 'OTU93_151', 'OTU93_377', 'OTU93_85', 'OTU93_245', 'OTU93_549', 'OTU93_147', 'OTU93_663', 'OTU93_1001', 'OTU93_1355', 'OTU93_875', 'OTU93_997', 'OTU93_495', 'OTU93_421'})\n",
      "Community 6: frozenset({'OTU93_631', 'OTU93_1003', 'OTU93_839', 'OTU93_765', 'OTU93_489', 'OTU93_523', 'OTU93_1363', 'OTU93_649', 'OTU93_427', 'OTU93_1219', 'OTU93_1349', 'OTU93_753', 'OTU93_1111', 'OTU93_463', 'OTU93_109', 'OTU93_483', 'OTU93_587', 'OTU93_1233', 'OTU93_1191', 'OTU93_261', 'OTU93_439', 'OTU93_1365', 'OTU93_589', 'OTU93_143', 'OTU93_205', 'OTU93_15', 'OTU93_597', 'OTU93_481', 'Ilex_pedunculosa', 'OTU93_269', 'OTU93_537', 'OTU93_1327'})\n",
      "Community 7: frozenset({'OTU93_241', 'OTU93_159', 'OTU93_759', 'OTU93_451', 'Celtis_sinensis', 'OTU93_539', 'OTU93_1343', 'OTU93_675', 'OTU93_133', 'OTU93_837', 'OTU93_593', 'OTU93_575', 'OTU93_1121', 'OTU93_99', 'OTU93_801', 'Pleioblastus_chino', 'OTU93_1307', 'Abelia_serrata', 'OTU93_683', 'OTU93_485', 'OTU93_1235', 'OTU93_1323', 'OTU93_45', 'OTU93_1347', 'OTU93_1033', 'OTU93_17', 'OTU93_1165', 'OTU93_635'})\n",
      "Community 8: frozenset({'OTU93_1329', 'OTU93_1157', 'OTU93_203', 'OTU93_779', 'OTU93_101', 'OTU93_1287', 'OTU93_1171', 'OTU93_919', 'Photinia_glabra', 'OTU93_417', 'Dryopteris_erythrosora', 'OTU93_411', 'OTU93_1089', 'OTU93_41', 'OTU93_1179', 'Toxicodendron_sp.', 'OTU93_513', 'OTU93_1351', 'OTU93_1135', 'OTU93_567', 'OTU93_921', 'OTU93_425'})\n"
     ]
    }
   ],
   "source": [
    "from networkx.algorithms.community import greedy_modularity_communities\n",
    "\n",
    "# run the Louvain algorithm\n",
    "communities = greedy_modularity_communities(G)\n",
    "\n",
    "# print the communities\n",
    "for i, c in enumerate(communities):\n",
    "    print(f\"Community {i}: {c}\")"
   ]
  },
  {
   "cell_type": "code",
   "execution_count": 136,
   "id": "a7640523",
   "metadata": {},
   "outputs": [
    {
     "name": "stdout",
     "output_type": "stream",
     "text": [
      "Warning: When  cdn_resources is 'local' jupyter notebook has issues displaying graphics on chrome/safari. Use cdn_resources='in_line' or cdn_resources='remote' if you have issues viewing graphics in a notebook.\n",
      "example.html\n"
     ]
    },
    {
     "data": {
      "text/html": [
       "\n",
       "        <iframe\n",
       "            width=\"100%\"\n",
       "            height=\"600px\"\n",
       "            src=\"example.html\"\n",
       "            frameborder=\"0\"\n",
       "            allowfullscreen\n",
       "            \n",
       "        ></iframe>\n",
       "        "
      ],
      "text/plain": [
       "<IPython.lib.display.IFrame at 0x2210f7b8c70>"
      ]
     },
     "execution_count": 136,
     "metadata": {},
     "output_type": "execute_result"
    }
   ],
   "source": [
    "# create a Pyvis graph object\n",
    "pyvis_graph = Network(notebook=True)\n",
    "\n",
    "i = 0\n",
    "for partition in partitions:\n",
    "    for node in list(partition):\n",
    "        G.nodes[node][\"group\"] = i\n",
    "    i = i + 1\n",
    "\n",
    "total = []\n",
    "for partition in partitions:\n",
    "    total = total + list(partition)\n",
    "\n",
    "pyvis_graph.from_nx(G.subgraph(total))\n",
    "\n",
    "pyvis_graph.repulsion()\n",
    "pyvis_graph.show(\"example.html\")"
   ]
  },
  {
   "cell_type": "code",
   "execution_count": 138,
   "id": "f5db8050",
   "metadata": {},
   "outputs": [
    {
     "name": "stdout",
     "output_type": "stream",
     "text": [
      "Warning: When  cdn_resources is 'local' jupyter notebook has issues displaying graphics on chrome/safari. Use cdn_resources='in_line' or cdn_resources='remote' if you have issues viewing graphics in a notebook.\n",
      "example.html\n"
     ]
    },
    {
     "data": {
      "text/html": [
       "\n",
       "        <iframe\n",
       "            width=\"100%\"\n",
       "            height=\"600px\"\n",
       "            src=\"example.html\"\n",
       "            frameborder=\"0\"\n",
       "            allowfullscreen\n",
       "            \n",
       "        ></iframe>\n",
       "        "
      ],
      "text/plain": [
       "<IPython.lib.display.IFrame at 0x2210f003640>"
      ]
     },
     "execution_count": 138,
     "metadata": {},
     "output_type": "execute_result"
    }
   ],
   "source": [
    "pyvis_graph = Network(notebook=True)\n",
    "\n",
    "pyvis_graph.from_nx(G.subgraph(list(partitions[1])))\n",
    "\n",
    "pyvis_graph.repulsion()\n",
    "pyvis_graph.show(\"example.html\")"
   ]
  },
  {
   "cell_type": "code",
   "execution_count": 141,
   "id": "5382bd0a",
   "metadata": {},
   "outputs": [],
   "source": [
    "plant_partitions = []\n",
    "for partition in partitions:\n",
    "    part = []\n",
    "    for node in list(partition):\n",
    "        if node[0:3] != 'OTU':\n",
    "            part.append(node)\n",
    "    plant_partitions.append(part)"
   ]
  },
  {
   "cell_type": "code",
   "execution_count": 142,
   "id": "f838f815",
   "metadata": {},
   "outputs": [
    {
     "data": {
      "text/plain": [
       "[['Quercus_glauca'],\n",
       " ['Prunus_grayana',\n",
       "  'Diospyros_kaki',\n",
       "  'Gamblea_innovans',\n",
       "  'Ilex_macropoda',\n",
       "  'Cinnamomum_camphora',\n",
       "  'Mallotus_japonicus'],\n",
       " ['Quercus_serrata'],\n",
       " ['Smilax_china',\n",
       "  'Parthenocissus_tricuspidata',\n",
       "  'Prunus_jamasakura',\n",
       "  'Cornus_sp.',\n",
       "  'Acer_palmatum',\n",
       "  'Lophatherum_gracile',\n",
       "  'Myrica_rubra',\n",
       "  'Maleae_sp.',\n",
       "  'Camellia_japonica',\n",
       "  'Vaccinium_bracteatum'],\n",
       " ['Clethra_barbinervis',\n",
       "  'Rhododendron_macrosepalum',\n",
       "  'Fabaceae_sp.',\n",
       "  'Hypnales_sp.',\n",
       "  'Poales_sp.',\n",
       "  'Lyonia_ovalifolia',\n",
       "  'Cleyera_japonica'],\n",
       " ['Pinus_densiflora'],\n",
       " ['Ilex_pedunculosa'],\n",
       " ['Celtis_sinensis', 'Pleioblastus_chino', 'Abelia_serrata'],\n",
       " ['Photinia_glabra', 'Dryopteris_erythrosora', 'Toxicodendron_sp.']]"
      ]
     },
     "execution_count": 142,
     "metadata": {},
     "output_type": "execute_result"
    }
   ],
   "source": [
    "plant_partitions"
   ]
  },
  {
   "cell_type": "code",
   "execution_count": null,
   "id": "a075b48f",
   "metadata": {},
   "outputs": [],
   "source": []
  }
 ],
 "metadata": {
  "kernelspec": {
   "display_name": "Python 3 (ipykernel)",
   "language": "python",
   "name": "python3"
  },
  "language_info": {
   "codemirror_mode": {
    "name": "ipython",
    "version": 3
   },
   "file_extension": ".py",
   "mimetype": "text/x-python",
   "name": "python",
   "nbconvert_exporter": "python",
   "pygments_lexer": "ipython3",
   "version": "3.10.9"
  }
 },
 "nbformat": 4,
 "nbformat_minor": 5
}
